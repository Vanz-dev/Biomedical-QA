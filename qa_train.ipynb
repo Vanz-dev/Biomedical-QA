{
 "cells": [
  {
   "cell_type": "markdown",
   "id": "ba5c9975",
   "metadata": {},
   "source": [
    "Load the data and split into train and test set"
   ]
  },
  {
   "cell_type": "code",
   "execution_count": null,
   "id": "a6c91474",
   "metadata": {},
   "outputs": [],
   "source": [
    "from datasets import load_dataset\n",
    "\n",
    "# Load the dataset and split into train and test\n",
    "dataset = load_dataset(\"pubmed_qa\", \"pqa_labeled\")[\"train\"].train_test_split(test_size=0.3, seed=42)\n",
    "train_dataset = dataset[\"train\"]\n",
    "test_dataset = dataset[\"test\"]\n",
    "\n",
    "print(f\"Train size: {len(train_dataset)}, Test size: {len(test_dataset)}\")\n"
   ]
  },
  {
   "cell_type": "markdown",
   "id": "315f7cc9",
   "metadata": {},
   "source": [
    "2. Load Pre-trained Model and Evaluate on Test Subset"
   ]
  },
  {
   "cell_type": "code",
   "execution_count": null,
   "id": "eebda8b7",
   "metadata": {},
   "outputs": [],
   "source": [
    "from transformers import AutoTokenizer, AutoModelForQuestionAnswering, pipeline\n",
    "import evaluate\n",
    "\n",
    "# Load tokenizer and model\n",
    "model_name = \"microsoft/BiomedNLP-PubMedBERT-base-uncased-abstract-fulltext\"\n",
    "tokenizer = AutoTokenizer.from_pretrained(model_name)\n",
    "model = AutoModelForQuestionAnswering.from_pretrained(model_name)\n",
    "\n",
    "# Set up QA pipeline\n",
    "qa_pipeline = pipeline(\"question-answering\", model=model, tokenizer=tokenizer)\n",
    "\n",
    "# Evaluation metrics\n",
    "accuracy_metric = evaluate.load(\"accuracy\")\n",
    "f1_metric = evaluate.load(\"f1\")\n"
   ]
  },
  {
   "cell_type": "markdown",
   "id": "2cc7bbca",
   "metadata": {},
   "source": [
    "Quick evaluation on 200 samples:\n",
    "\n"
   ]
  },
  {
   "cell_type": "code",
   "execution_count": null,
   "id": "79b97acf",
   "metadata": {},
   "outputs": [],
   "source": [
    "import random\n",
    "\n",
    "def map_answer_to_label(answer: str) -> str:\n",
    "    answer = answer.lower()\n",
    "    if any(x in answer for x in [\"no\", \"not\", \"does not\", \"none\", \"negative\"]):\n",
    "        return \"no\"\n",
    "    elif any(x in answer for x in [\"yes\", \"does\", \"can\", \"reduce\", \"associated with\", \"positive\"]):\n",
    "        return \"yes\"\n",
    "    else:\n",
    "        return \"maybe\"\n",
    "\n",
    "sampled_data = random.sample(list(test_dataset), 300)\n",
    "preds, refs = [], []\n",
    "\n",
    "for example in sampled_data:\n",
    "    question, context, label = example[\"question\"], example[\"context\"], example[\"final_decision\"]\n",
    "    try:\n",
    "        result = qa_pipeline({\"question\": question, \"context\": context})\n",
    "        pred_label = map_answer_to_label(result[\"answer\"])\n",
    "    except:\n",
    "        pred_label = \"maybe\"  \n",
    "    preds.append(pred_label)\n",
    "    refs.append(label)\n",
    "\n",
    "label2id = {\"yes\": 0, \"no\": 1, \"maybe\": 2}\n",
    "id2label = {v: k for k, v in label2id.items()}\n",
    "# Convert to class IDs\n",
    "preds_ids = [label2id.get(p, 2) for p in preds]  # default to 'maybe'\n",
    "refs_ids = [label2id.get(r, 2) for r in refs]\n",
    "\n",
    "acc = accuracy_metric.compute(predictions=preds_ids, references=refs_ids)[\"accuracy\"]\n",
    "f1 = f1_metric.compute(predictions=preds_ids, references=refs_ids, average=\"macro\")[\"f1\"]\n",
    "\n",
    "print(f\"Initial Accuracy: {acc:.2f}, Initial F1: {f1:.2f}\")\n"
   ]
  },
  {
   "cell_type": "markdown",
   "id": "d4fc0254",
   "metadata": {},
   "source": [
    "Evaluate using semantic similarity"
   ]
  },
  {
   "cell_type": "code",
   "execution_count": null,
   "id": "bfe87db4",
   "metadata": {},
   "outputs": [],
   "source": [
    "from sentence_transformers import SentenceTransformer, util\n",
    "\n",
    "model_Sentence = SentenceTransformer(\"all-MiniLM-L6-v2\")\n",
    "\n",
    "sim_scores = []\n",
    "for pred, ref in zip(preds, refs):\n",
    "    sim = util.cos_sim(model_Sentence.encode(pred), model_Sentence.encode(ref)).item()\n",
    "    sim_scores.append(sim)\n",
    "\n",
    "avg_sim = sum(sim_scores) / len(sim_scores)\n",
    "print(f\"Average Semantic Similarity: {avg_sim:.2f}\")\n"
   ]
  },
  {
   "cell_type": "markdown",
   "id": "8b0aa3e9",
   "metadata": {},
   "source": [
    "train the model"
   ]
  },
  {
   "cell_type": "code",
   "execution_count": null,
   "id": "c586cb09",
   "metadata": {},
   "outputs": [],
   "source": [
    "from transformers import TrainingArguments, Trainer\n",
    "from datasets import Dataset\n",
    "import torch\n",
    "\n",
    "\n",
    "def preprocess(examples):\n",
    "    return tokenizer(\n",
    "        examples[\"question\"],  # Keep this as is\n",
    "        [' '.join(entry['contexts']) for entry in examples[\"context\"]],  # Process each example's context separately\n",
    "        truncation=True,\n",
    "        padding=\"max_length\",\n",
    "        max_length=512\n",
    "    )\n",
    "\n",
    "\n",
    "\n",
    "tokenized_train = train_dataset.map(preprocess, batched=True)\n",
    "tokenized_test = test_dataset.map(preprocess, batched=True)\n",
    "\n",
    "# Dummy labels for QA (start/end tokens) to make it minimally trainable\n",
    "def add_dummy_labels(example):\n",
    "    example[\"start_positions\"] = 0\n",
    "    example[\"end_positions\"] = 1\n",
    "    return example\n",
    "\n",
    "tokenized_train = tokenized_train.map(add_dummy_labels)\n",
    "tokenized_test = tokenized_test.map(add_dummy_labels)\n",
    "\n"
   ]
  },
  {
   "cell_type": "code",
   "execution_count": null,
   "id": "48053bab",
   "metadata": {},
   "outputs": [],
   "source": [
    "tokenized_train"
   ]
  },
  {
   "cell_type": "code",
   "execution_count": null,
   "id": "7d66b485",
   "metadata": {},
   "outputs": [],
   "source": [
    "train_token_dataset = tokenized_train.remove_columns([\"question\", \"final_decision\", \"context\", \"long_answer\", \"pubid\"])\n"
   ]
  },
  {
   "cell_type": "code",
   "execution_count": null,
   "id": "aec2024f",
   "metadata": {},
   "outputs": [],
   "source": [
    "# Training arguments\n",
    "training_args = TrainingArguments(\n",
    "    output_dir=\"./results\",\n",
    "    per_device_train_batch_size=4,\n",
    "    num_train_epochs=1,\n",
    "    eval_strategy=\"no\",\n",
    "    logging_steps=10,\n",
    "    save_steps=10000,\n",
    "    save_total_limit=1,\n",
    "    remove_unused_columns=False\n",
    ")\n",
    "\n",
    "\n",
    "\n"
   ]
  },
  {
   "cell_type": "code",
   "execution_count": null,
   "id": "ec396bae",
   "metadata": {},
   "outputs": [],
   "source": [
    "trainer = Trainer(\n",
    "    model=model,\n",
    "    args=training_args,\n",
    "    train_dataset=train_token_dataset,\n",
    "    tokenizer=tokenizer\n",
    ")\n",
    "\n"
   ]
  },
  {
   "cell_type": "code",
   "execution_count": null,
   "id": "cee36940",
   "metadata": {},
   "outputs": [],
   "source": [
    "# Train\n",
    "trainer.train()"
   ]
  },
  {
   "cell_type": "code",
   "execution_count": null,
   "id": "736c79b3",
   "metadata": {},
   "outputs": [],
   "source": []
  }
 ],
 "metadata": {
  "kernelspec": {
   "display_name": "Python 3",
   "language": "python",
   "name": "python3"
  },
  "language_info": {
   "codemirror_mode": {
    "name": "ipython",
    "version": 3
   },
   "file_extension": ".py",
   "mimetype": "text/x-python",
   "name": "python",
   "nbconvert_exporter": "python",
   "pygments_lexer": "ipython3",
   "version": "3.12.1"
  }
 },
 "nbformat": 4,
 "nbformat_minor": 5
}
