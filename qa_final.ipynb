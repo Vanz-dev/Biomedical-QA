{
 "cells": [
  {
   "cell_type": "code",
   "execution_count": 1,
   "id": "e7031d70",
   "metadata": {},
   "outputs": [],
   "source": [
    "from datasets import load_dataset\n",
    "from rank_bm25 import BM25Okapi        # still used in preprocessing\n",
    "from transformers import AutoTokenizer, AutoModelForSequenceClassification, Trainer, TrainingArguments\n",
    "from nltk.tokenize import TreebankWordTokenizer\n",
    "import numpy as np\n",
    "from sklearn.metrics import accuracy_score, f1_score\n",
    "import torch\n",
    "\n",
    "### NEW for semantic similarity\n",
    "from sentence_transformers import SentenceTransformer, util"
   ]
  },
  {
   "cell_type": "code",
   "execution_count": 2,
   "id": "5382ec5a",
   "metadata": {},
   "outputs": [],
   "source": [
    "def evaluate_semantic_similarity(preds, refs):\n",
    "    model_Sentence = SentenceTransformer(\"all-MiniLM-L6-v2\")\n",
    "    sim_scores = []\n",
    "    for pred, ref in zip(preds, refs):\n",
    "        sim = util.cos_sim(\n",
    "            model_Sentence.encode(pred, convert_to_tensor=True),\n",
    "            model_Sentence.encode(ref, convert_to_tensor=True)\n",
    "        ).item()\n",
    "        sim_scores.append(sim)\n",
    "    avg_sim = sum(sim_scores) / len(sim_scores)\n",
    "    print(f\"Average Semantic Similarity: {avg_sim:.2f}\")"
   ]
  },
  {
   "cell_type": "code",
   "execution_count": 3,
   "id": "19038be0",
   "metadata": {},
   "outputs": [],
   "source": [
    "# ——— load & split\n",
    "dataset = load_dataset(\"pubmed_qa\", \"pqa_labeled\")[\"train\"].shuffle(seed=42)\n",
    "split = dataset.train_test_split(test_size=0.2, seed=42)\n",
    "train_dataset, test_dataset = split[\"train\"], split[\"test\"]\n"
   ]
  },
  {
   "cell_type": "code",
   "execution_count": 4,
   "id": "d9ce9893",
   "metadata": {},
   "outputs": [],
   "source": [
    "# ——— BM25 retriever (unchanged)\n",
    "corpus = [' '.join(e['contexts']) for e in train_dataset[\"context\"]]\n",
    "tokenizer_bm25 = TreebankWordTokenizer()\n",
    "bm25 = BM25Okapi([tokenizer_bm25.tokenize(doc) for doc in corpus])\n",
    "def retrieve_with_bm25(q, k=1):\n",
    "    tokens = tokenizer_bm25.tokenize(q)\n",
    "    scores = bm25.get_scores(tokens)\n",
    "    idxs = sorted(range(len(scores)), key=lambda i: scores[i], reverse=True)[:k]\n",
    "    return [corpus[i] for i in idxs]"
   ]
  },
  {
   "cell_type": "code",
   "execution_count": 5,
   "id": "01a68d78",
   "metadata": {},
   "outputs": [],
   "source": [
    "# ——— preprocessing\n",
    "label2id = {'no': 0, 'yes': 1, 'maybe': 2}\n",
    "id2label = {v:k for k,v in label2id.items()}\n",
    "tokenizer = AutoTokenizer.from_pretrained(\"microsoft/BiomedNLP-PubMedBERT-base-uncased-abstract-fulltext\")"
   ]
  },
  {
   "cell_type": "code",
   "execution_count": 6,
   "id": "285ca93d",
   "metadata": {},
   "outputs": [],
   "source": [
    "def preprocess(examples):\n",
    "    in_ids, attn, labs = [], [], []\n",
    "    for q, lbl in zip(examples['question'], examples['final_decision']):\n",
    "        docs = retrieve_with_bm25(q)\n",
    "        if not docs: continue\n",
    "        enc = tokenizer(q, docs[0], truncation=True, padding='max_length', max_length=512)\n",
    "        in_ids.append(enc['input_ids'])\n",
    "        attn.append(enc['attention_mask'])\n",
    "        labs.append(label2id[lbl.lower()])\n",
    "    return {'input_ids':in_ids, 'attention_mask':attn, 'labels':labs}\n",
    "\n",
    "train_enc = preprocess(train_dataset)\n",
    "test_enc  = preprocess(test_dataset)"
   ]
  },
  {
   "cell_type": "code",
   "execution_count": 7,
   "id": "e1c59848",
   "metadata": {},
   "outputs": [],
   "source": [
    "class PubMedQADataset(torch.utils.data.Dataset):\n",
    "    def __init__(self, enc): self.enc = enc\n",
    "    def __len__(self): return len(self.enc['labels'])\n",
    "    def __getitem__(self, i): return {k:torch.tensor(v[i]) for k,v in self.enc.items()}\n",
    "\n",
    "train_ds, test_ds = PubMedQADataset(train_enc), PubMedQADataset(test_enc)\n",
    "\n"
   ]
  },
  {
   "cell_type": "code",
   "execution_count": 8,
   "id": "f8c6401c",
   "metadata": {},
   "outputs": [],
   "source": [
    "# ——— classification metrics\n",
    "def compute_metrics(pred):\n",
    "    preds = np.argmax(pred.predictions, axis=1)\n",
    "    acc   = accuracy_score(pred.label_ids, preds)\n",
    "    f1    = f1_score(pred.label_ids, preds, average='macro')\n",
    "    return {'accuracy':acc, 'f1':f1}\n"
   ]
  },
  {
   "cell_type": "code",
   "execution_count": 9,
   "id": "6b79be6a",
   "metadata": {},
   "outputs": [
    {
     "name": "stdout",
     "output_type": "stream",
     "text": [
      "=== PART 1: Pretrained evaluation ===\n"
     ]
    },
    {
     "name": "stderr",
     "output_type": "stream",
     "text": [
      "Some weights of BertForSequenceClassification were not initialized from the model checkpoint at microsoft/BiomedNLP-PubMedBERT-base-uncased-abstract-fulltext and are newly initialized: ['classifier.bias', 'classifier.weight']\n",
      "You should probably TRAIN this model on a down-stream task to be able to use it for predictions and inference.\n",
      "c:\\Users\\dell\\AppData\\Local\\Programs\\Python\\Python311\\Lib\\site-packages\\torch\\utils\\data\\dataloader.py:665: UserWarning: 'pin_memory' argument is set as true but no accelerator is found, then device pinned memory won't be used.\n",
      "  warnings.warn(warn_msg)\n"
     ]
    },
    {
     "data": {
      "text/html": [],
      "text/plain": [
       "<IPython.core.display.HTML object>"
      ]
     },
     "metadata": {},
     "output_type": "display_data"
    },
    {
     "name": "stdout",
     "output_type": "stream",
     "text": [
      "{'eval_loss': 1.0542303323745728, 'eval_model_preparation_time': 0.0033, 'eval_accuracy': 0.38, 'eval_f1': 0.2638456071291892, 'eval_runtime': 162.2071, 'eval_samples_per_second': 1.233, 'eval_steps_per_second': 0.154}\n"
     ]
    },
    {
     "name": "stderr",
     "output_type": "stream",
     "text": [
      "c:\\Users\\dell\\AppData\\Local\\Programs\\Python\\Python311\\Lib\\site-packages\\torch\\utils\\data\\dataloader.py:665: UserWarning: 'pin_memory' argument is set as true but no accelerator is found, then device pinned memory won't be used.\n",
      "  warnings.warn(warn_msg)\n"
     ]
    },
    {
     "name": "stdout",
     "output_type": "stream",
     "text": [
      "Semantic similarity (pretrained):\n"
     ]
    },
    {
     "data": {
      "application/vnd.jupyter.widget-view+json": {
       "model_id": "8b6ec80975984b2b9148d8deab5b6db5",
       "version_major": 2,
       "version_minor": 0
      },
      "text/plain": [
       "modules.json:   0%|          | 0.00/349 [00:00<?, ?B/s]"
      ]
     },
     "metadata": {},
     "output_type": "display_data"
    },
    {
     "name": "stderr",
     "output_type": "stream",
     "text": [
      "c:\\Users\\dell\\AppData\\Local\\Programs\\Python\\Python311\\Lib\\site-packages\\huggingface_hub\\file_download.py:144: UserWarning: `huggingface_hub` cache-system uses symlinks by default to efficiently store duplicated files but your machine does not support them in C:\\Users\\dell\\.cache\\huggingface\\hub\\models--sentence-transformers--all-MiniLM-L6-v2. Caching files will still work but in a degraded version that might require more space on your disk. This warning can be disabled by setting the `HF_HUB_DISABLE_SYMLINKS_WARNING` environment variable. For more details, see https://huggingface.co/docs/huggingface_hub/how-to-cache#limitations.\n",
      "To support symlinks on Windows, you either need to activate Developer Mode or to run Python as an administrator. In order to activate developer mode, see this article: https://docs.microsoft.com/en-us/windows/apps/get-started/enable-your-device-for-development\n",
      "  warnings.warn(message)\n"
     ]
    },
    {
     "data": {
      "application/vnd.jupyter.widget-view+json": {
       "model_id": "ea28c510b8d24c679a4a16226076492c",
       "version_major": 2,
       "version_minor": 0
      },
      "text/plain": [
       "config_sentence_transformers.json:   0%|          | 0.00/116 [00:00<?, ?B/s]"
      ]
     },
     "metadata": {},
     "output_type": "display_data"
    },
    {
     "data": {
      "application/vnd.jupyter.widget-view+json": {
       "model_id": "f6a459c0558e4ff88ab18ab670d46be2",
       "version_major": 2,
       "version_minor": 0
      },
      "text/plain": [
       "README.md:   0%|          | 0.00/10.5k [00:00<?, ?B/s]"
      ]
     },
     "metadata": {},
     "output_type": "display_data"
    },
    {
     "data": {
      "application/vnd.jupyter.widget-view+json": {
       "model_id": "43b3ce20227d4761a73f717e7093e0d2",
       "version_major": 2,
       "version_minor": 0
      },
      "text/plain": [
       "sentence_bert_config.json:   0%|          | 0.00/53.0 [00:00<?, ?B/s]"
      ]
     },
     "metadata": {},
     "output_type": "display_data"
    },
    {
     "data": {
      "application/vnd.jupyter.widget-view+json": {
       "model_id": "f27988b352d94a61bd3bdc9699565f99",
       "version_major": 2,
       "version_minor": 0
      },
      "text/plain": [
       "config.json:   0%|          | 0.00/612 [00:00<?, ?B/s]"
      ]
     },
     "metadata": {},
     "output_type": "display_data"
    },
    {
     "name": "stderr",
     "output_type": "stream",
     "text": [
      "Xet Storage is enabled for this repo, but the 'hf_xet' package is not installed. Falling back to regular HTTP download. For better performance, install the package with: `pip install huggingface_hub[hf_xet]` or `pip install hf_xet`\n"
     ]
    },
    {
     "data": {
      "application/vnd.jupyter.widget-view+json": {
       "model_id": "1d4f3773f8034e4d8f9bb4625d155254",
       "version_major": 2,
       "version_minor": 0
      },
      "text/plain": [
       "model.safetensors:   0%|          | 0.00/90.9M [00:00<?, ?B/s]"
      ]
     },
     "metadata": {},
     "output_type": "display_data"
    },
    {
     "data": {
      "application/vnd.jupyter.widget-view+json": {
       "model_id": "2e84e185be284de394401a6fdf3401cf",
       "version_major": 2,
       "version_minor": 0
      },
      "text/plain": [
       "tokenizer_config.json:   0%|          | 0.00/350 [00:00<?, ?B/s]"
      ]
     },
     "metadata": {},
     "output_type": "display_data"
    },
    {
     "data": {
      "application/vnd.jupyter.widget-view+json": {
       "model_id": "2dd33a0dc3d94810ad360c0c6ef9f1ae",
       "version_major": 2,
       "version_minor": 0
      },
      "text/plain": [
       "vocab.txt:   0%|          | 0.00/232k [00:00<?, ?B/s]"
      ]
     },
     "metadata": {},
     "output_type": "display_data"
    },
    {
     "data": {
      "application/vnd.jupyter.widget-view+json": {
       "model_id": "c00e8a5d558a42d2a4523dd21862906b",
       "version_major": 2,
       "version_minor": 0
      },
      "text/plain": [
       "tokenizer.json:   0%|          | 0.00/466k [00:00<?, ?B/s]"
      ]
     },
     "metadata": {},
     "output_type": "display_data"
    },
    {
     "data": {
      "application/vnd.jupyter.widget-view+json": {
       "model_id": "ae6b22a45bed4669bf5422ccc15d6a63",
       "version_major": 2,
       "version_minor": 0
      },
      "text/plain": [
       "special_tokens_map.json:   0%|          | 0.00/112 [00:00<?, ?B/s]"
      ]
     },
     "metadata": {},
     "output_type": "display_data"
    },
    {
     "data": {
      "application/vnd.jupyter.widget-view+json": {
       "model_id": "f28daf40391941d3a1f3a215582fda6c",
       "version_major": 2,
       "version_minor": 0
      },
      "text/plain": [
       "config.json:   0%|          | 0.00/190 [00:00<?, ?B/s]"
      ]
     },
     "metadata": {},
     "output_type": "display_data"
    },
    {
     "name": "stdout",
     "output_type": "stream",
     "text": [
      "Average Semantic Similarity: 0.81\n"
     ]
    }
   ],
   "source": [
    "# — PART 1: pretrained evaluation\n",
    "print(\"=== PART 1: Pretrained evaluation ===\")\n",
    "pre_model = AutoModelForSequenceClassification.from_pretrained(\n",
    "    \"microsoft/BiomedNLP-PubMedBERT-base-uncased-abstract-fulltext\",\n",
    "    num_labels=3, id2label=id2label, label2id=label2id\n",
    ")\n",
    "pre_trainer = Trainer(model=pre_model, compute_metrics=compute_metrics, eval_dataset=test_ds)\n",
    "pre_res = pre_trainer.evaluate()\n",
    "print(pre_res)\n",
    "\n",
    "# get raw preds & refs as texts\n",
    "pred_out = pre_trainer.predict(test_ds)\n",
    "pred_ids = np.argmax(pred_out.predictions, axis=1)\n",
    "ref_ids  = pred_out.label_ids\n",
    "pred_texts = [id2label[i] for i in pred_ids]\n",
    "ref_texts  = [id2label[i] for i in ref_ids]\n",
    "\n",
    "print(\"Semantic similarity (pretrained):\")\n",
    "evaluate_semantic_similarity(pred_texts, ref_texts)"
   ]
  },
  {
   "cell_type": "code",
   "execution_count": 10,
   "id": "36314dd8",
   "metadata": {},
   "outputs": [
    {
     "name": "stdout",
     "output_type": "stream",
     "text": [
      "\n",
      "=== PART 2: Finetune & evaluate ===\n"
     ]
    },
    {
     "name": "stderr",
     "output_type": "stream",
     "text": [
      "Some weights of BertForSequenceClassification were not initialized from the model checkpoint at microsoft/BiomedNLP-PubMedBERT-base-uncased-abstract-fulltext and are newly initialized: ['classifier.bias', 'classifier.weight']\n",
      "You should probably TRAIN this model on a down-stream task to be able to use it for predictions and inference.\n",
      "c:\\Users\\dell\\AppData\\Local\\Programs\\Python\\Python311\\Lib\\site-packages\\torch\\utils\\data\\dataloader.py:665: UserWarning: 'pin_memory' argument is set as true but no accelerator is found, then device pinned memory won't be used.\n",
      "  warnings.warn(warn_msg)\n"
     ]
    },
    {
     "data": {
      "text/html": [
       "\n",
       "    <div>\n",
       "      \n",
       "      <progress value='300' max='300' style='width:300px; height:20px; vertical-align: middle;'></progress>\n",
       "      [300/300 2:02:14, Epoch 3/3]\n",
       "    </div>\n",
       "    <table border=\"1\" class=\"dataframe\">\n",
       "  <thead>\n",
       " <tr style=\"text-align: left;\">\n",
       "      <th>Step</th>\n",
       "      <th>Training Loss</th>\n",
       "    </tr>\n",
       "  </thead>\n",
       "  <tbody>\n",
       "    <tr>\n",
       "      <td>50</td>\n",
       "      <td>0.975100</td>\n",
       "    </tr>\n",
       "    <tr>\n",
       "      <td>100</td>\n",
       "      <td>0.959600</td>\n",
       "    </tr>\n",
       "    <tr>\n",
       "      <td>150</td>\n",
       "      <td>0.922000</td>\n",
       "    </tr>\n",
       "    <tr>\n",
       "      <td>200</td>\n",
       "      <td>0.857300</td>\n",
       "    </tr>\n",
       "    <tr>\n",
       "      <td>250</td>\n",
       "      <td>0.760300</td>\n",
       "    </tr>\n",
       "    <tr>\n",
       "      <td>300</td>\n",
       "      <td>0.782900</td>\n",
       "    </tr>\n",
       "  </tbody>\n",
       "</table><p>"
      ],
      "text/plain": [
       "<IPython.core.display.HTML object>"
      ]
     },
     "metadata": {},
     "output_type": "display_data"
    },
    {
     "name": "stderr",
     "output_type": "stream",
     "text": [
      "c:\\Users\\dell\\AppData\\Local\\Programs\\Python\\Python311\\Lib\\site-packages\\torch\\utils\\data\\dataloader.py:665: UserWarning: 'pin_memory' argument is set as true but no accelerator is found, then device pinned memory won't be used.\n",
      "  warnings.warn(warn_msg)\n"
     ]
    },
    {
     "data": {
      "text/html": [],
      "text/plain": [
       "<IPython.core.display.HTML object>"
      ]
     },
     "metadata": {},
     "output_type": "display_data"
    },
    {
     "name": "stdout",
     "output_type": "stream",
     "text": [
      "{'eval_loss': 1.138144850730896, 'eval_accuracy': 0.475, 'eval_f1': 0.3110209601081812, 'eval_runtime': 164.1144, 'eval_samples_per_second': 1.219, 'eval_steps_per_second': 0.152, 'epoch': 3.0}\n"
     ]
    },
    {
     "name": "stderr",
     "output_type": "stream",
     "text": [
      "c:\\Users\\dell\\AppData\\Local\\Programs\\Python\\Python311\\Lib\\site-packages\\torch\\utils\\data\\dataloader.py:665: UserWarning: 'pin_memory' argument is set as true but no accelerator is found, then device pinned memory won't be used.\n",
      "  warnings.warn(warn_msg)\n"
     ]
    },
    {
     "name": "stdout",
     "output_type": "stream",
     "text": [
      "Semantic similarity (finetuned):\n",
      "Average Semantic Similarity: 0.83\n"
     ]
    }
   ],
   "source": [
    "# — PART 2: finetune & re-evaluate\n",
    "print(\"\\n=== PART 2: Finetune & evaluate ===\")\n",
    "ft_model = AutoModelForSequenceClassification.from_pretrained(\n",
    "    \"microsoft/BiomedNLP-PubMedBERT-base-uncased-abstract-fulltext\",\n",
    "    num_labels=3, id2label=id2label, label2id=label2id\n",
    ")\n",
    "training_args = TrainingArguments(\n",
    "    output_dir='./results', learning_rate=2e-5,\n",
    "    per_device_train_batch_size=8, per_device_eval_batch_size=8,\n",
    "    num_train_epochs=3, weight_decay=0.01, logging_steps=50\n",
    ")\n",
    "ft_trainer = Trainer(\n",
    "    model=ft_model, args=training_args,\n",
    "    train_dataset=train_ds, compute_metrics=compute_metrics\n",
    ")\n",
    "ft_trainer.train()\n",
    "ft_res = ft_trainer.evaluate(eval_dataset=test_ds)\n",
    "print(ft_res)\n",
    "\n",
    "# get finetuned preds & refs\n",
    "pred_out2 = ft_trainer.predict(test_ds)\n",
    "pred_ids2 = np.argmax(pred_out2.predictions, axis=1)\n",
    "ref_ids2  = pred_out2.label_ids\n",
    "pred_texts2 = [id2label[i] for i in pred_ids2]\n",
    "ref_texts2  = [id2label[i] for i in ref_ids2]\n",
    "\n",
    "print(\"Semantic similarity (finetuned):\")\n",
    "evaluate_semantic_similarity(pred_texts2, ref_texts2)\n"
   ]
  },
  {
   "cell_type": "code",
   "execution_count": 16,
   "id": "5c8cf5c0",
   "metadata": {},
   "outputs": [
    {
     "name": "stdout",
     "output_type": "stream",
     "text": [
      "\n",
      "=== Comparison on test set ===\n",
      "Accuracy → pretrained: 0.3800, finetuned: 0.4750\n",
      "   F1    → pretrained: 0.2638, finetuned: 0.3110\n",
      "Average semantic similarity -> pretrained:\n",
      "Average Semantic Similarity: 0.81\n",
      "Average semantic similarity -> finetuned:\n",
      "Average Semantic Similarity: 0.83\n"
     ]
    }
   ],
   "source": [
    "# — FINAL comparison\n",
    "print(\"\\n=== Comparison on test set ===\")\n",
    "print(f\"Accuracy → pretrained: {pre_res['eval_accuracy']:.4f}, finetuned: {ft_res['eval_accuracy']:.4f}\")\n",
    "print(f\"   F1    → pretrained: {pre_res['eval_f1']:.4f}, finetuned: {ft_res['eval_f1']:.4f}\")\n",
    "\n",
    "print(\"Average semantic similarity -> pretrained:\")\n",
    "semantic_pretrained = evaluate_semantic_similarity(pred_texts, ref_texts)\n",
    "\n",
    "print(\"Average semantic similarity -> finetuned:\")\n",
    "semantic_finetuned = evaluate_semantic_similarity(pred_texts2, ref_texts2)\n",
    "\n",
    "\n"
   ]
  },
  {
   "cell_type": "code",
   "execution_count": null,
   "id": "f0b037b3",
   "metadata": {},
   "outputs": [],
   "source": []
  }
 ],
 "metadata": {
  "kernelspec": {
   "display_name": "Python 3",
   "language": "python",
   "name": "python3"
  },
  "language_info": {
   "codemirror_mode": {
    "name": "ipython",
    "version": 3
   },
   "file_extension": ".py",
   "mimetype": "text/x-python",
   "name": "python",
   "nbconvert_exporter": "python",
   "pygments_lexer": "ipython3",
   "version": "3.11.4"
  }
 },
 "nbformat": 4,
 "nbformat_minor": 5
}
